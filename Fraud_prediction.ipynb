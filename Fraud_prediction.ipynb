{
  "nbformat": 4,
  "nbformat_minor": 0,
  "metadata": {
    "colab": {
      "provenance": [],
      "authorship_tag": "ABX9TyMULKUnuRhMXApzb0eKvoqp",
      "include_colab_link": true
    },
    "kernelspec": {
      "name": "python3",
      "display_name": "Python 3"
    },
    "language_info": {
      "name": "python"
    }
  },
  "cells": [
    {
      "cell_type": "markdown",
      "metadata": {
        "id": "view-in-github",
        "colab_type": "text"
      },
      "source": [
        "<a href=\"https://colab.research.google.com/github/taliarosenkranz/TranSecure/blob/main/Fraud_prediction.ipynb\" target=\"_parent\"><img src=\"https://colab.research.google.com/assets/colab-badge.svg\" alt=\"Open In Colab\"/></a>"
      ]
    },
    {
      "cell_type": "code",
      "execution_count": 16,
      "metadata": {
        "id": "FBxIgMcnJ1_h"
      },
      "outputs": [],
      "source": [
        "import pandas as pd\n",
        "import numpy as np\n",
        "import matplotlib.pyplot as plt\n",
        "import seaborn as sns\n"
      ]
    },
    {
      "cell_type": "code",
      "source": [
        "df = pd.read_excel(\"orders.xlsx\")"
      ],
      "metadata": {
        "id": "wxQts8guJ92i"
      },
      "execution_count": 3,
      "outputs": []
    },
    {
      "cell_type": "markdown",
      "source": [
        "Preprocessing"
      ],
      "metadata": {
        "id": "YHYW6YwziZw8"
      }
    },
    {
      "cell_type": "code",
      "source": [
        "df.head()"
      ],
      "metadata": {
        "colab": {
          "base_uri": "https://localhost:8080/",
          "height": 313
        },
        "id": "M5NtRSciKNXm",
        "outputId": "fad6f37f-0bf9-448c-959c-6e397f5722ff"
      },
      "execution_count": 4,
      "outputs": [
        {
          "output_type": "execute_result",
          "data": {
            "text/plain": [
              "   order_id            order_date order_status  price  avs_mismatch  \\\n",
              "0    621481  2023-06-11T00:00:00Z     approved    540          True   \n",
              "1    788013  2022-10-30T00:00:00Z     approved    680          True   \n",
              "2    743724  2023-06-19T00:00:00Z   chargeback    260         False   \n",
              "3    709340  2021-02-28T00:00:00Z     approved    720         False   \n",
              "4    816507  2021-05-13T00:00:00Z     approved    990          True   \n",
              "\n",
              "   customer_account_age order_source  billing_zip  shipping_name_length  \\\n",
              "0                   287        phone        41123                    19   \n",
              "1                    81        phone        71879                     6   \n",
              "2                   286          web        65701                    20   \n",
              "3                   320   mobile app        63666                    18   \n",
              "4                    31        phone        86613                     8   \n",
              "\n",
              "   classification_score  customer_id  \n",
              "0              0.371480          372  \n",
              "1              0.867578          860  \n",
              "2              0.630769          971  \n",
              "3              0.431331          913  \n",
              "4              0.276696          905  "
            ],
            "text/html": [
              "\n",
              "  <div id=\"df-c82837ef-1eba-4d44-bee7-d363e26f3c07\" class=\"colab-df-container\">\n",
              "    <div>\n",
              "<style scoped>\n",
              "    .dataframe tbody tr th:only-of-type {\n",
              "        vertical-align: middle;\n",
              "    }\n",
              "\n",
              "    .dataframe tbody tr th {\n",
              "        vertical-align: top;\n",
              "    }\n",
              "\n",
              "    .dataframe thead th {\n",
              "        text-align: right;\n",
              "    }\n",
              "</style>\n",
              "<table border=\"1\" class=\"dataframe\">\n",
              "  <thead>\n",
              "    <tr style=\"text-align: right;\">\n",
              "      <th></th>\n",
              "      <th>order_id</th>\n",
              "      <th>order_date</th>\n",
              "      <th>order_status</th>\n",
              "      <th>price</th>\n",
              "      <th>avs_mismatch</th>\n",
              "      <th>customer_account_age</th>\n",
              "      <th>order_source</th>\n",
              "      <th>billing_zip</th>\n",
              "      <th>shipping_name_length</th>\n",
              "      <th>classification_score</th>\n",
              "      <th>customer_id</th>\n",
              "    </tr>\n",
              "  </thead>\n",
              "  <tbody>\n",
              "    <tr>\n",
              "      <th>0</th>\n",
              "      <td>621481</td>\n",
              "      <td>2023-06-11T00:00:00Z</td>\n",
              "      <td>approved</td>\n",
              "      <td>540</td>\n",
              "      <td>True</td>\n",
              "      <td>287</td>\n",
              "      <td>phone</td>\n",
              "      <td>41123</td>\n",
              "      <td>19</td>\n",
              "      <td>0.371480</td>\n",
              "      <td>372</td>\n",
              "    </tr>\n",
              "    <tr>\n",
              "      <th>1</th>\n",
              "      <td>788013</td>\n",
              "      <td>2022-10-30T00:00:00Z</td>\n",
              "      <td>approved</td>\n",
              "      <td>680</td>\n",
              "      <td>True</td>\n",
              "      <td>81</td>\n",
              "      <td>phone</td>\n",
              "      <td>71879</td>\n",
              "      <td>6</td>\n",
              "      <td>0.867578</td>\n",
              "      <td>860</td>\n",
              "    </tr>\n",
              "    <tr>\n",
              "      <th>2</th>\n",
              "      <td>743724</td>\n",
              "      <td>2023-06-19T00:00:00Z</td>\n",
              "      <td>chargeback</td>\n",
              "      <td>260</td>\n",
              "      <td>False</td>\n",
              "      <td>286</td>\n",
              "      <td>web</td>\n",
              "      <td>65701</td>\n",
              "      <td>20</td>\n",
              "      <td>0.630769</td>\n",
              "      <td>971</td>\n",
              "    </tr>\n",
              "    <tr>\n",
              "      <th>3</th>\n",
              "      <td>709340</td>\n",
              "      <td>2021-02-28T00:00:00Z</td>\n",
              "      <td>approved</td>\n",
              "      <td>720</td>\n",
              "      <td>False</td>\n",
              "      <td>320</td>\n",
              "      <td>mobile app</td>\n",
              "      <td>63666</td>\n",
              "      <td>18</td>\n",
              "      <td>0.431331</td>\n",
              "      <td>913</td>\n",
              "    </tr>\n",
              "    <tr>\n",
              "      <th>4</th>\n",
              "      <td>816507</td>\n",
              "      <td>2021-05-13T00:00:00Z</td>\n",
              "      <td>approved</td>\n",
              "      <td>990</td>\n",
              "      <td>True</td>\n",
              "      <td>31</td>\n",
              "      <td>phone</td>\n",
              "      <td>86613</td>\n",
              "      <td>8</td>\n",
              "      <td>0.276696</td>\n",
              "      <td>905</td>\n",
              "    </tr>\n",
              "  </tbody>\n",
              "</table>\n",
              "</div>\n",
              "    <div class=\"colab-df-buttons\">\n",
              "\n",
              "  <div class=\"colab-df-container\">\n",
              "    <button class=\"colab-df-convert\" onclick=\"convertToInteractive('df-c82837ef-1eba-4d44-bee7-d363e26f3c07')\"\n",
              "            title=\"Convert this dataframe to an interactive table.\"\n",
              "            style=\"display:none;\">\n",
              "\n",
              "  <svg xmlns=\"http://www.w3.org/2000/svg\" height=\"24px\" viewBox=\"0 -960 960 960\">\n",
              "    <path d=\"M120-120v-720h720v720H120Zm60-500h600v-160H180v160Zm220 220h160v-160H400v160Zm0 220h160v-160H400v160ZM180-400h160v-160H180v160Zm440 0h160v-160H620v160ZM180-180h160v-160H180v160Zm440 0h160v-160H620v160Z\"/>\n",
              "  </svg>\n",
              "    </button>\n",
              "\n",
              "  <style>\n",
              "    .colab-df-container {\n",
              "      display:flex;\n",
              "      gap: 12px;\n",
              "    }\n",
              "\n",
              "    .colab-df-convert {\n",
              "      background-color: #E8F0FE;\n",
              "      border: none;\n",
              "      border-radius: 50%;\n",
              "      cursor: pointer;\n",
              "      display: none;\n",
              "      fill: #1967D2;\n",
              "      height: 32px;\n",
              "      padding: 0 0 0 0;\n",
              "      width: 32px;\n",
              "    }\n",
              "\n",
              "    .colab-df-convert:hover {\n",
              "      background-color: #E2EBFA;\n",
              "      box-shadow: 0px 1px 2px rgba(60, 64, 67, 0.3), 0px 1px 3px 1px rgba(60, 64, 67, 0.15);\n",
              "      fill: #174EA6;\n",
              "    }\n",
              "\n",
              "    .colab-df-buttons div {\n",
              "      margin-bottom: 4px;\n",
              "    }\n",
              "\n",
              "    [theme=dark] .colab-df-convert {\n",
              "      background-color: #3B4455;\n",
              "      fill: #D2E3FC;\n",
              "    }\n",
              "\n",
              "    [theme=dark] .colab-df-convert:hover {\n",
              "      background-color: #434B5C;\n",
              "      box-shadow: 0px 1px 3px 1px rgba(0, 0, 0, 0.15);\n",
              "      filter: drop-shadow(0px 1px 2px rgba(0, 0, 0, 0.3));\n",
              "      fill: #FFFFFF;\n",
              "    }\n",
              "  </style>\n",
              "\n",
              "    <script>\n",
              "      const buttonEl =\n",
              "        document.querySelector('#df-c82837ef-1eba-4d44-bee7-d363e26f3c07 button.colab-df-convert');\n",
              "      buttonEl.style.display =\n",
              "        google.colab.kernel.accessAllowed ? 'block' : 'none';\n",
              "\n",
              "      async function convertToInteractive(key) {\n",
              "        const element = document.querySelector('#df-c82837ef-1eba-4d44-bee7-d363e26f3c07');\n",
              "        const dataTable =\n",
              "          await google.colab.kernel.invokeFunction('convertToInteractive',\n",
              "                                                    [key], {});\n",
              "        if (!dataTable) return;\n",
              "\n",
              "        const docLinkHtml = 'Like what you see? Visit the ' +\n",
              "          '<a target=\"_blank\" href=https://colab.research.google.com/notebooks/data_table.ipynb>data table notebook</a>'\n",
              "          + ' to learn more about interactive tables.';\n",
              "        element.innerHTML = '';\n",
              "        dataTable['output_type'] = 'display_data';\n",
              "        await google.colab.output.renderOutput(dataTable, element);\n",
              "        const docLink = document.createElement('div');\n",
              "        docLink.innerHTML = docLinkHtml;\n",
              "        element.appendChild(docLink);\n",
              "      }\n",
              "    </script>\n",
              "  </div>\n",
              "\n",
              "\n",
              "<div id=\"df-4a7aa13b-8e76-481f-920b-f2a8822f57e8\">\n",
              "  <button class=\"colab-df-quickchart\" onclick=\"quickchart('df-4a7aa13b-8e76-481f-920b-f2a8822f57e8')\"\n",
              "            title=\"Suggest charts\"\n",
              "            style=\"display:none;\">\n",
              "\n",
              "<svg xmlns=\"http://www.w3.org/2000/svg\" height=\"24px\"viewBox=\"0 0 24 24\"\n",
              "     width=\"24px\">\n",
              "    <g>\n",
              "        <path d=\"M19 3H5c-1.1 0-2 .9-2 2v14c0 1.1.9 2 2 2h14c1.1 0 2-.9 2-2V5c0-1.1-.9-2-2-2zM9 17H7v-7h2v7zm4 0h-2V7h2v10zm4 0h-2v-4h2v4z\"/>\n",
              "    </g>\n",
              "</svg>\n",
              "  </button>\n",
              "\n",
              "<style>\n",
              "  .colab-df-quickchart {\n",
              "      --bg-color: #E8F0FE;\n",
              "      --fill-color: #1967D2;\n",
              "      --hover-bg-color: #E2EBFA;\n",
              "      --hover-fill-color: #174EA6;\n",
              "      --disabled-fill-color: #AAA;\n",
              "      --disabled-bg-color: #DDD;\n",
              "  }\n",
              "\n",
              "  [theme=dark] .colab-df-quickchart {\n",
              "      --bg-color: #3B4455;\n",
              "      --fill-color: #D2E3FC;\n",
              "      --hover-bg-color: #434B5C;\n",
              "      --hover-fill-color: #FFFFFF;\n",
              "      --disabled-bg-color: #3B4455;\n",
              "      --disabled-fill-color: #666;\n",
              "  }\n",
              "\n",
              "  .colab-df-quickchart {\n",
              "    background-color: var(--bg-color);\n",
              "    border: none;\n",
              "    border-radius: 50%;\n",
              "    cursor: pointer;\n",
              "    display: none;\n",
              "    fill: var(--fill-color);\n",
              "    height: 32px;\n",
              "    padding: 0;\n",
              "    width: 32px;\n",
              "  }\n",
              "\n",
              "  .colab-df-quickchart:hover {\n",
              "    background-color: var(--hover-bg-color);\n",
              "    box-shadow: 0 1px 2px rgba(60, 64, 67, 0.3), 0 1px 3px 1px rgba(60, 64, 67, 0.15);\n",
              "    fill: var(--button-hover-fill-color);\n",
              "  }\n",
              "\n",
              "  .colab-df-quickchart-complete:disabled,\n",
              "  .colab-df-quickchart-complete:disabled:hover {\n",
              "    background-color: var(--disabled-bg-color);\n",
              "    fill: var(--disabled-fill-color);\n",
              "    box-shadow: none;\n",
              "  }\n",
              "\n",
              "  .colab-df-spinner {\n",
              "    border: 2px solid var(--fill-color);\n",
              "    border-color: transparent;\n",
              "    border-bottom-color: var(--fill-color);\n",
              "    animation:\n",
              "      spin 1s steps(1) infinite;\n",
              "  }\n",
              "\n",
              "  @keyframes spin {\n",
              "    0% {\n",
              "      border-color: transparent;\n",
              "      border-bottom-color: var(--fill-color);\n",
              "      border-left-color: var(--fill-color);\n",
              "    }\n",
              "    20% {\n",
              "      border-color: transparent;\n",
              "      border-left-color: var(--fill-color);\n",
              "      border-top-color: var(--fill-color);\n",
              "    }\n",
              "    30% {\n",
              "      border-color: transparent;\n",
              "      border-left-color: var(--fill-color);\n",
              "      border-top-color: var(--fill-color);\n",
              "      border-right-color: var(--fill-color);\n",
              "    }\n",
              "    40% {\n",
              "      border-color: transparent;\n",
              "      border-right-color: var(--fill-color);\n",
              "      border-top-color: var(--fill-color);\n",
              "    }\n",
              "    60% {\n",
              "      border-color: transparent;\n",
              "      border-right-color: var(--fill-color);\n",
              "    }\n",
              "    80% {\n",
              "      border-color: transparent;\n",
              "      border-right-color: var(--fill-color);\n",
              "      border-bottom-color: var(--fill-color);\n",
              "    }\n",
              "    90% {\n",
              "      border-color: transparent;\n",
              "      border-bottom-color: var(--fill-color);\n",
              "    }\n",
              "  }\n",
              "</style>\n",
              "\n",
              "  <script>\n",
              "    async function quickchart(key) {\n",
              "      const quickchartButtonEl =\n",
              "        document.querySelector('#' + key + ' button');\n",
              "      quickchartButtonEl.disabled = true;  // To prevent multiple clicks.\n",
              "      quickchartButtonEl.classList.add('colab-df-spinner');\n",
              "      try {\n",
              "        const charts = await google.colab.kernel.invokeFunction(\n",
              "            'suggestCharts', [key], {});\n",
              "      } catch (error) {\n",
              "        console.error('Error during call to suggestCharts:', error);\n",
              "      }\n",
              "      quickchartButtonEl.classList.remove('colab-df-spinner');\n",
              "      quickchartButtonEl.classList.add('colab-df-quickchart-complete');\n",
              "    }\n",
              "    (() => {\n",
              "      let quickchartButtonEl =\n",
              "        document.querySelector('#df-4a7aa13b-8e76-481f-920b-f2a8822f57e8 button');\n",
              "      quickchartButtonEl.style.display =\n",
              "        google.colab.kernel.accessAllowed ? 'block' : 'none';\n",
              "    })();\n",
              "  </script>\n",
              "</div>\n",
              "\n",
              "    </div>\n",
              "  </div>\n"
            ],
            "application/vnd.google.colaboratory.intrinsic+json": {
              "type": "dataframe",
              "variable_name": "df",
              "summary": "{\n  \"name\": \"df\",\n  \"rows\": 40825,\n  \"fields\": [\n    {\n      \"column\": \"order_id\",\n      \"properties\": {\n        \"dtype\": \"number\",\n        \"std\": 86671,\n        \"min\": 600012,\n        \"max\": 899999,\n        \"num_unique_values\": 38106,\n        \"samples\": [\n          628332,\n          677317,\n          672553\n        ],\n        \"semantic_type\": \"\",\n        \"description\": \"\"\n      }\n    },\n    {\n      \"column\": \"order_date\",\n      \"properties\": {\n        \"dtype\": \"object\",\n        \"num_unique_values\": 1095,\n        \"samples\": [\n          \"2021-01-11T00:00:00Z\",\n          \"2022-02-07T00:00:00Z\",\n          \"2023-12-29T00:00:00Z\"\n        ],\n        \"semantic_type\": \"\",\n        \"description\": \"\"\n      }\n    },\n    {\n      \"column\": \"order_status\",\n      \"properties\": {\n        \"dtype\": \"category\",\n        \"num_unique_values\": 2,\n        \"samples\": [\n          \"chargeback\",\n          \"approved\"\n        ],\n        \"semantic_type\": \"\",\n        \"description\": \"\"\n      }\n    },\n    {\n      \"column\": \"price\",\n      \"properties\": {\n        \"dtype\": \"number\",\n        \"std\": 396,\n        \"min\": 10,\n        \"max\": 1500,\n        \"num_unique_values\": 186,\n        \"samples\": [\n          590,\n          85\n        ],\n        \"semantic_type\": \"\",\n        \"description\": \"\"\n      }\n    },\n    {\n      \"column\": \"avs_mismatch\",\n      \"properties\": {\n        \"dtype\": \"boolean\",\n        \"num_unique_values\": 2,\n        \"samples\": [\n          false,\n          true\n        ],\n        \"semantic_type\": \"\",\n        \"description\": \"\"\n      }\n    },\n    {\n      \"column\": \"customer_account_age\",\n      \"properties\": {\n        \"dtype\": \"number\",\n        \"std\": 105,\n        \"min\": 1,\n        \"max\": 365,\n        \"num_unique_values\": 365,\n        \"samples\": [\n          210,\n          314\n        ],\n        \"semantic_type\": \"\",\n        \"description\": \"\"\n      }\n    },\n    {\n      \"column\": \"order_source\",\n      \"properties\": {\n        \"dtype\": \"category\",\n        \"num_unique_values\": 3,\n        \"samples\": [\n          \"phone\",\n          \"web\"\n        ],\n        \"semantic_type\": \"\",\n        \"description\": \"\"\n      }\n    },\n    {\n      \"column\": \"billing_zip\",\n      \"properties\": {\n        \"dtype\": \"number\",\n        \"std\": 26003,\n        \"min\": 10001,\n        \"max\": 99997,\n        \"num_unique_values\": 32768,\n        \"samples\": [\n          80769,\n          16019\n        ],\n        \"semantic_type\": \"\",\n        \"description\": \"\"\n      }\n    },\n    {\n      \"column\": \"shipping_name_length\",\n      \"properties\": {\n        \"dtype\": \"number\",\n        \"std\": 4,\n        \"min\": 5,\n        \"max\": 20,\n        \"num_unique_values\": 16,\n        \"samples\": [\n          19,\n          6\n        ],\n        \"semantic_type\": \"\",\n        \"description\": \"\"\n      }\n    },\n    {\n      \"column\": \"classification_score\",\n      \"properties\": {\n        \"dtype\": \"number\",\n        \"std\": 0.28558068475284404,\n        \"min\": 2.67371069639921e-05,\n        \"max\": 0.999995382199995,\n        \"num_unique_values\": 40824,\n        \"samples\": [\n          0.420968697639182,\n          0.74016876053065\n        ],\n        \"semantic_type\": \"\",\n        \"description\": \"\"\n      }\n    },\n    {\n      \"column\": \"customer_id\",\n      \"properties\": {\n        \"dtype\": \"number\",\n        \"std\": 287,\n        \"min\": 1,\n        \"max\": 1000,\n        \"num_unique_values\": 1000,\n        \"samples\": [\n          704,\n          208\n        ],\n        \"semantic_type\": \"\",\n        \"description\": \"\"\n      }\n    }\n  ]\n}"
            }
          },
          "metadata": {},
          "execution_count": 4
        }
      ]
    },
    {
      "cell_type": "code",
      "source": [
        "df.isnull().sum()"
      ],
      "metadata": {
        "colab": {
          "base_uri": "https://localhost:8080/"
        },
        "id": "JP179KhAiF_X",
        "outputId": "ece1d8b9-2edb-49ea-ef34-8e07a0b6c540"
      },
      "execution_count": 5,
      "outputs": [
        {
          "output_type": "execute_result",
          "data": {
            "text/plain": [
              "order_id                0\n",
              "order_date              0\n",
              "order_status            0\n",
              "price                   0\n",
              "avs_mismatch            0\n",
              "customer_account_age    0\n",
              "order_source            0\n",
              "billing_zip             0\n",
              "shipping_name_length    0\n",
              "classification_score    0\n",
              "customer_id             0\n",
              "dtype: int64"
            ]
          },
          "metadata": {},
          "execution_count": 5
        }
      ]
    },
    {
      "cell_type": "code",
      "source": [
        "df.info()"
      ],
      "metadata": {
        "colab": {
          "base_uri": "https://localhost:8080/"
        },
        "id": "j8UfWQQwiJyQ",
        "outputId": "1555f450-10db-4cd2-9dd0-9825ef08ff37"
      },
      "execution_count": 6,
      "outputs": [
        {
          "output_type": "stream",
          "name": "stdout",
          "text": [
            "<class 'pandas.core.frame.DataFrame'>\n",
            "RangeIndex: 40825 entries, 0 to 40824\n",
            "Data columns (total 11 columns):\n",
            " #   Column                Non-Null Count  Dtype  \n",
            "---  ------                --------------  -----  \n",
            " 0   order_id              40825 non-null  int64  \n",
            " 1   order_date            40825 non-null  object \n",
            " 2   order_status          40825 non-null  object \n",
            " 3   price                 40825 non-null  int64  \n",
            " 4   avs_mismatch          40825 non-null  bool   \n",
            " 5   customer_account_age  40825 non-null  int64  \n",
            " 6   order_source          40825 non-null  object \n",
            " 7   billing_zip           40825 non-null  int64  \n",
            " 8   shipping_name_length  40825 non-null  int64  \n",
            " 9   classification_score  40825 non-null  float64\n",
            " 10  customer_id           40825 non-null  int64  \n",
            "dtypes: bool(1), float64(1), int64(6), object(3)\n",
            "memory usage: 3.2+ MB\n"
          ]
        }
      ]
    },
    {
      "cell_type": "markdown",
      "source": [
        "The dataset contains a score which classifies each transaction as more or less likely to be charged back. In order to label the dataset properly, a threshold will be set on the classification score and based on that, each transaction will be labeled as accepted or declined. With these labels, a machine learning model will be trained to predict weheather or not a transaction should be accepted or declined. With such a prediction, the company will be able to limit the chargeback amounts they are paying to their clients.\n",
        "\n"
      ],
      "metadata": {
        "id": "ZNRyhnhWkCVa"
      }
    },
    {
      "cell_type": "code",
      "source": [
        "# calculating 90th percentile of score\n",
        "threshold = np.percentile(df.classification_score, 90)\n",
        "print(threshold)"
      ],
      "metadata": {
        "colab": {
          "base_uri": "https://localhost:8080/"
        },
        "id": "0C2wq5P-mLdX",
        "outputId": "14a322fb-80bb-40af-fd22-25899885e56a"
      },
      "execution_count": 7,
      "outputs": [
        {
          "output_type": "stream",
          "name": "stdout",
          "text": [
            "0.9520177251845594\n"
          ]
        }
      ]
    },
    {
      "cell_type": "code",
      "source": [
        "print(f'Based on the data provided, 90% of the orders will be approved if the classification score is at {round(threshold, 3)} or below. Any order with a score above this threshold will be understood as fraud and therefore declined.')"
      ],
      "metadata": {
        "colab": {
          "base_uri": "https://localhost:8080/"
        },
        "id": "m0M34f2-mm8x",
        "outputId": "218cd96b-5679-4942-f216-26cb87e51af3"
      },
      "execution_count": 8,
      "outputs": [
        {
          "output_type": "stream",
          "name": "stdout",
          "text": [
            "Based on the data provided, 90% of the orders will be approved if the classification score is at 0.952 or below. Any order with a score above this threshold will be understood as fraud and therefore declined.\n"
          ]
        }
      ]
    },
    {
      "cell_type": "code",
      "source": [
        "#adding status of approval column based on threshold to df\n",
        "df['status'] = df['classification_score'].apply(lambda x: 'Declined' if x > threshold else 'Approved')"
      ],
      "metadata": {
        "id": "RvYt2IXVmnr7"
      },
      "execution_count": 9,
      "outputs": []
    },
    {
      "cell_type": "code",
      "source": [
        "distribution = df.status.value_counts()\n",
        "distribution"
      ],
      "metadata": {
        "colab": {
          "base_uri": "https://localhost:8080/"
        },
        "id": "SSJFWsIDh2uM",
        "outputId": "b686ab25-2bb2-48a5-d728-1211b5c9f8e4"
      },
      "execution_count": 10,
      "outputs": [
        {
          "output_type": "execute_result",
          "data": {
            "text/plain": [
              "status\n",
              "Approved    36742\n",
              "Declined     4083\n",
              "Name: count, dtype: int64"
            ]
          },
          "metadata": {},
          "execution_count": 10
        }
      ]
    },
    {
      "cell_type": "code",
      "source": [
        "#visualizing the distribution between approved and denied orders based on set threshold\n",
        "distribution.plot(kind = \"bar\")\n",
        "plt.title(\"Distribution of Status\")\n",
        "plt.ylabel(\"Order count\")\n",
        "plt.xticks(rotation=0)\n",
        "plt.show()"
      ],
      "metadata": {
        "colab": {
          "base_uri": "https://localhost:8080/",
          "height": 472
        },
        "id": "iCewxVfKiAXL",
        "outputId": "c975f067-5c6c-4615-8ef7-ea7ffd2c1470"
      },
      "execution_count": 13,
      "outputs": [
        {
          "output_type": "display_data",
          "data": {
            "text/plain": [
              "<Figure size 640x480 with 1 Axes>"
            ],
            "image/png": "[encoded data removed]"
          },
          "metadata": {}
        }
      ]
    },
    {
      "cell_type": "code",
      "source": [
        "#visualizing the distribution between approved and denied orders based on set threshold\n",
        "distribution.plot(kind = \"bar\")\n",
        "plt.title(\"Distribution of Status\")\n",
        "plt.ylabel(\"Order count\")\n",
        "plt.xticks(rotation=0)\n",
        "plt.show()"
      ],
      "metadata": {
        "colab": {
          "base_uri": "https://localhost:8080/",
          "height": 472
        },
        "id": "OJLM-HoAiP-D",
        "outputId": "c20579a4-645e-4349-aa36-0131873d5691"
      },
      "execution_count": 14,
      "outputs": [
        {
          "output_type": "display_data",
          "data": {
            "text/plain": [
              "<Figure size 640x480 with 1 Axes>"
            ],
            "image/png": "[encoded data removed]"
          },
          "metadata": {}
        }
      ]
    },
    {
      "cell_type": "markdown",
      "source": [
        "Plotting model score distribution"
      ],
      "metadata": {
        "id": "wDA6EANkpazp"
      }
    },
    {
      "cell_type": "code",
      "source": [
        "#density plot of classification score showing chargeback\n",
        "sns.kdeplot(data=df, x=\"classification_score\", hue=\"order_status\", fill=True)\n",
        "plt.title('Density Plot of Classification Score by Order Status')\n",
        "plt.xlabel('Classification Score')\n",
        "plt.ylabel('Density')\n",
        "plt.axvline(x=threshold, color='red', linestyle='--', label='Threshold at 0.95')\n",
        "plt.show()"
      ],
      "metadata": {
        "colab": {
          "base_uri": "https://localhost:8080/",
          "height": 472
        },
        "id": "Mpxt0hUyiTMg",
        "outputId": "330957c5-bf77-433a-e1e0-508ea35252ba"
      },
      "execution_count": 17,
      "outputs": [
        {
          "output_type": "display_data",
          "data": {
            "text/plain": [
              "<Figure size 640x480 with 1 Axes>"
            ],
            "image/png": "[encoded data removed]"
          },
          "metadata": {}
        }
      ]
    },
    {
      "cell_type": "markdown",
      "source": [
        " Machine Learning"
      ],
      "metadata": {
        "id": "qY3EpCfniUUS"
      }
    },
    {
      "cell_type": "code",
      "source": [],
      "metadata": {
        "id": "JfzuHTSgiV_u"
      },
      "execution_count": null,
      "outputs": []
    }
  ]
}